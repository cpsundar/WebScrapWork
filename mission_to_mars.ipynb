{
 "cells": [
  {
   "cell_type": "code",
   "execution_count": 303,
   "metadata": {},
   "outputs": [],
   "source": [
    "from bs4 import BeautifulSoup\n",
    "import requests\n",
    "import urllib\n",
    "import pandas as pd\n",
    "import os"
   ]
  },
  {
   "cell_type": "code",
   "execution_count": 304,
   "metadata": {},
   "outputs": [],
   "source": [
    "url = \"https://mars.nasa.gov/news/\"\n",
    "response = requests.get(url)\n",
    "soup_news = BeautifulSoup(response.text, 'html.parser')\n",
    "#print(soup_news)"
   ]
  },
  {
   "cell_type": "code",
   "execution_count": 305,
   "metadata": {},
   "outputs": [],
   "source": [
    "news_title = []\n",
    "news_p = []\n",
    "\n",
    "for item in soup_news.find_all('div', class_='slide'):\n",
    "    try:\n",
    "        news_head =  item.find(\"div\", class_=\"content_title\").text\n",
    "        #print(f\"News:{news_head}\")\n",
    "        news_title.append(news_head)\n",
    "        \n",
    "        paragraph= item.find(\"div\", class_=\"rollover_description_inner\").text\n",
    "        #print(f\"Paragraph: {paragraph}\")\n",
    "        news_p.append(paragraph)\n",
    "\n",
    "    except Exception as e:\n",
    "        print(e)\n",
    "        \n",
    "#print(f\"All titles: {news_title}\")        \n",
    "#print(f\"All Paragraphs: {news_p}\")"
   ]
  },
  {
   "cell_type": "code",
   "execution_count": 306,
   "metadata": {},
   "outputs": [],
   "source": [
    "image_url =\"https://www.jpl.nasa.gov/spaceimages/?search=&category=Mars\""
   ]
  },
  {
   "cell_type": "code",
   "execution_count": 307,
   "metadata": {},
   "outputs": [],
   "source": [
    "response = requests.get(image_url)\n",
    "soup_image = BeautifulSoup(response.text, 'html.parser')\n",
    "\n",
    "#print(response.text)"
   ]
  },
  {
   "cell_type": "code",
   "execution_count": 308,
   "metadata": {},
   "outputs": [],
   "source": [
    "featured_image_url = []\n",
    "for item in soup_image.find_all('div', class_=\"grid_layout\"):\n",
    "#for item in soup.find_all('div'):\n",
    "    for item1 in item.find_all('ul', class_=\"articles\"):\n",
    "        for result in item1.find_all('li', class_=\"slide\"):\n",
    "            image_src= \"https://www.jpl.nasa.gov\" + result.find('a', class_=\"fancybox\")[\"data-fancybox-href\"]\n",
    "            featured_image_url.append(image_src)\n",
    "            \n",
    "#print(featured_image_url)            "
   ]
  },
  {
   "cell_type": "code",
   "execution_count": 309,
   "metadata": {},
   "outputs": [],
   "source": [
    "weather_url = \"https://twitter.com/marswxreport?lang=en\"\n",
    "response = requests.get(weather_url)\n",
    "soup_weather = BeautifulSoup(response.text, \"html.parser\")\n",
    "#print(soup_weather)"
   ]
  },
  {
   "cell_type": "code",
   "execution_count": 318,
   "metadata": {},
   "outputs": [
    {
     "name": "stdout",
     "output_type": "stream",
     "text": [
      "['Sol 2319 (2019-02-13), high -17C/1F, low -72C/-97F, pressure at 8.12 hPa, daylight 06:46-18:52', <a class=\"twitter-timeline-link u-hidden\" data-pre-embedded=\"true\" dir=\"ltr\" href=\"https://t.co/anlHR95BMs\">pic.twitter.com/anlHR95BMs</a>, 'Sol 2318 (2019-02-12), high -17C/1F, low -73C/-99F, pressure at 8.11 hPa, daylight 06:46-18:52', 'Sol 2317 (2019-02-11), high -16C/3F, low -73C/-99F, pressure at 8.12 hPa, daylight 06:46-18:52', <a class=\"twitter-timeline-link u-hidden\" data-pre-embedded=\"true\" dir=\"ltr\" href=\"https://t.co/D15lfEs6RN\">pic.twitter.com/D15lfEs6RN</a>, 'Sol 2316 (2019-02-10), high -14C/6F, low -72C/-97F, pressure at 8.14 hPa, daylight 06:47-18:52', 'While the Sun has set on ', <a class=\"twitter-hashtag pretty-link js-nav\" data-query-source=\"hashtag_click\" dir=\"ltr\" href=\"/hashtag/Opportunity?src=hash\"><s>#</s><b>Opportunity</b></a>, ', the MER program lives on in mountains of data scientists will be making new discoveries from for decades.\\n\\nWe asked 90 Sols and 1km, she gave us 5110 Sols and 45km. So long Oppy, and thanks for all the data. \\n\\nMER-B EOM', <a class=\"twitter-timeline-link u-hidden\" data-pre-embedded=\"true\" dir=\"ltr\" href=\"https://t.co/33obWOXbNx\">pic.twitter.com/33obWOXbNx</a>, 'Join NASA at 2pm ET tomorrow for results of attempts to contact Oppy.\\n\\n', <a class=\"twitter-timeline-link\" data-expanded-url=\"https://www.nasa.gov/press-release/nasa-to-share-results-of-effort-to-recover-mars-opportunity-rover/\" dir=\"ltr\" href=\"https://t.co/K3TkA5PGU2\" rel=\"nofollow noopener\" target=\"_blank\" title=\"https://www.nasa.gov/press-release/nasa-to-share-results-of-effort-to-recover-mars-opportunity-rover/\"><span class=\"tco-ellipsis\"></span><span class=\"invisible\">https://www.</span><span class=\"js-display-url\">nasa.gov/press-release/</span><span class=\"invisible\">nasa-to-share-results-of-effort-to-recover-mars-opportunity-rover/</span><span class=\"tco-ellipsis\"><span class=\"invisible\"> </span>…</span></a>, <a class=\"twitter-timeline-link u-hidden\" data-expanded-url=\"https://twitter.com/planetarykeri/status/1095469660017840128\" dir=\"ltr\" href=\"https://t.co/1NnqMDLu0n\" rel=\"nofollow noopener\" target=\"_blank\" title=\"https://twitter.com/planetarykeri/status/1095469660017840128\"><span class=\"tco-ellipsis\"></span><span class=\"invisible\">https://</span><span class=\"js-display-url\">twitter.com/planetarykeri/</span><span class=\"invisible\">status/1095469660017840128</span><span class=\"tco-ellipsis\"><span class=\"invisible\"> </span>…</span></a>, 'Sol 2315 (2019-02-09), high -17C/1F, low -71C/-95F, pressure at 8.13 hPa, daylight 06:47-18:52', <a class=\"twitter-timeline-link u-hidden\" data-pre-embedded=\"true\" dir=\"ltr\" href=\"https://t.co/xnGU2i98WB\">pic.twitter.com/xnGU2i98WB</a>, 'Sol 2314 (2019-02-08), high -16C/3F, low -71C/-95F, pressure at 8.14 hPa, daylight 06:47-18:53', 'Sol 2313 (2019-02-07), high -14C/6F, low -71C/-95F, pressure at 8.14 hPa, daylight 06:47-18:53', '2019-01-28 through 02-03 via MRO/Marci \\n•\\xa0dust storms north of Alba Patera\\n•\\xa0lee wave clouds near Tempe Terra & Deuteronilus Mensae\\n• H2O ice clouds over Arsia Mons \\n• dust haze hides Valles Marineris floor\\n• seasonally high dust over Opportunity, Curioisty, & Insight', <a class=\"twitter-timeline-link u-hidden\" data-pre-embedded=\"true\" dir=\"ltr\" href=\"https://t.co/awlKHfgac2\">pic.twitter.com/awlKHfgac2</a>, 'Sol 2312 (2019-02-06), high -13C/8F, low -72C/-97F, pressure at 8.13 hPa, daylight 06:47-18:53', <a class=\"twitter-timeline-link u-hidden\" data-pre-embedded=\"true\" dir=\"ltr\" href=\"https://t.co/QpQemcmmJW\">pic.twitter.com/QpQemcmmJW</a>, 'Sol 2311 (2019-02-05), high -11C/12F, low -73C/-99F, pressure at 8.12 hPa, daylight 06:47-18:53', 'Sol 2310 (2019-02-04), high -6C/21F, low -75C/-102F, pressure at 8.15 hPa, daylight 06:47-18:53', <a class=\"twitter-timeline-link u-hidden\" data-pre-embedded=\"true\" dir=\"ltr\" href=\"https://t.co/oRYhGR1P9C\">pic.twitter.com/oRYhGR1P9C</a>, 'Sol 2309 (2019-02-03), high -16C/3F, low -71C/-95F, pressure at 8.14 hPa, daylight 06:47-18:53', 'Happy National Weatherpersons Day to all my meteorologist friends.  Stay classy Gale Crater. ', <a class=\"twitter-timeline-link\" data-expanded-url=\"https://en.wikipedia.org/wiki/National_Weatherperson%27s_Day\" dir=\"ltr\" href=\"https://t.co/Ok29fj9Qf4\" rel=\"nofollow noopener\" target=\"_blank\" title=\"https://en.wikipedia.org/wiki/National_Weatherperson%27s_Day\"><span class=\"tco-ellipsis\"></span><span class=\"invisible\">https://</span><span class=\"js-display-url\">en.wikipedia.org/wiki/National_</span><span class=\"invisible\">Weatherperson%27s_Day</span><span class=\"tco-ellipsis\"><span class=\"invisible\"> </span>…</span></a>, <a class=\"twitter-timeline-link u-hidden\" data-pre-embedded=\"true\" dir=\"ltr\" href=\"https://t.co/IifCvlawci\">pic.twitter.com/IifCvlawci</a>, 'Sol 2308 (2019-02-02), high -13C/8F, low -71C/-95F, pressure at 8.14 hPa, daylight 06:47-18:54', <a class=\"twitter-timeline-link u-hidden\" data-pre-embedded=\"true\" dir=\"ltr\" href=\"https://t.co/slAaFVIn0T\">pic.twitter.com/slAaFVIn0T</a>, 'Sol 2307 (2019-02-01), high -13C/8F, low -71C/-95F, pressure at 8.14 hPa, daylight 06:47-18:54', 'Sol 2306 (2019-01-31), high -12C/10F, low -70C/-93F, pressure at 8.13 hPa, daylight 06:47-18:54']\n"
     ]
    }
   ],
   "source": [
    "mars_weather = []\n",
    "\n",
    "for level_1 in soup_weather.find_all('ol', class_=\"stream-items js-navigable-stream\"):\n",
    "    for level_2 in level_1.find_all('li'):\n",
    "        for level_3 in level_2.find_all('div', class_=\"content\"):\n",
    "            for header in level_3.find_all('div', \"stream-item-header\"):\n",
    "                header_text = ''.join([x for x in header.span.text if x.isprintable() ])        \n",
    "                if (header_text== \"Mars Weather\"):\n",
    "                    # if collect only Mars Weather tweets\n",
    "                    for item in level_3.find_all('div', class_=\"js-tweet-text-container\"):\n",
    "                        for result in item.find('p', class_=\"TweetTextSize TweetTextSize--normal js-tweet-text tweet-text\"):\n",
    "                            mars_weather.append(result)\n",
    "print(mars_weather)                            "
   ]
  },
  {
   "cell_type": "code",
   "execution_count": 311,
   "metadata": {},
   "outputs": [
    {
     "data": {
      "text/plain": [
       "[                      0                              1\n",
       " 0  Equatorial Diameter:                       6,792 km\n",
       " 1       Polar Diameter:                       6,752 km\n",
       " 2                 Mass:  6.42 x 10^23 kg (10.7% Earth)\n",
       " 3                Moons:            2 (Phobos & Deimos)\n",
       " 4       Orbit Distance:       227,943,824 km (1.52 AU)\n",
       " 5         Orbit Period:           687 days (1.9 years)\n",
       " 6  Surface Temperature:                  -153 to 20 °C\n",
       " 7         First Record:              2nd millennium BC\n",
       " 8          Recorded By:           Egyptian astronomers]"
      ]
     },
     "execution_count": 311,
     "metadata": {},
     "output_type": "execute_result"
    }
   ],
   "source": [
    "facts_url = \"https://space-facts.com/mars/\"\n",
    "response = requests.get(weather_url)\n",
    "tables = pd.read_html(facts_url)\n",
    "tables\n"
   ]
  },
  {
   "cell_type": "code",
   "execution_count": 312,
   "metadata": {},
   "outputs": [
    {
     "data": {
      "text/html": [
       "<div>\n",
       "<style scoped>\n",
       "    .dataframe tbody tr th:only-of-type {\n",
       "        vertical-align: middle;\n",
       "    }\n",
       "\n",
       "    .dataframe tbody tr th {\n",
       "        vertical-align: top;\n",
       "    }\n",
       "\n",
       "    .dataframe thead th {\n",
       "        text-align: right;\n",
       "    }\n",
       "</style>\n",
       "<table border=\"1\" class=\"dataframe\">\n",
       "  <thead>\n",
       "    <tr style=\"text-align: right;\">\n",
       "      <th></th>\n",
       "      <th>0</th>\n",
       "      <th>1</th>\n",
       "    </tr>\n",
       "  </thead>\n",
       "  <tbody>\n",
       "    <tr>\n",
       "      <th>0</th>\n",
       "      <td>Equatorial Diameter:</td>\n",
       "      <td>6,792 km</td>\n",
       "    </tr>\n",
       "    <tr>\n",
       "      <th>1</th>\n",
       "      <td>Polar Diameter:</td>\n",
       "      <td>6,752 km</td>\n",
       "    </tr>\n",
       "    <tr>\n",
       "      <th>2</th>\n",
       "      <td>Mass:</td>\n",
       "      <td>6.42 x 10^23 kg (10.7% Earth)</td>\n",
       "    </tr>\n",
       "    <tr>\n",
       "      <th>3</th>\n",
       "      <td>Moons:</td>\n",
       "      <td>2 (Phobos &amp; Deimos)</td>\n",
       "    </tr>\n",
       "    <tr>\n",
       "      <th>4</th>\n",
       "      <td>Orbit Distance:</td>\n",
       "      <td>227,943,824 km (1.52 AU)</td>\n",
       "    </tr>\n",
       "    <tr>\n",
       "      <th>5</th>\n",
       "      <td>Orbit Period:</td>\n",
       "      <td>687 days (1.9 years)</td>\n",
       "    </tr>\n",
       "    <tr>\n",
       "      <th>6</th>\n",
       "      <td>Surface Temperature:</td>\n",
       "      <td>-153 to 20 °C</td>\n",
       "    </tr>\n",
       "    <tr>\n",
       "      <th>7</th>\n",
       "      <td>First Record:</td>\n",
       "      <td>2nd millennium BC</td>\n",
       "    </tr>\n",
       "    <tr>\n",
       "      <th>8</th>\n",
       "      <td>Recorded By:</td>\n",
       "      <td>Egyptian astronomers</td>\n",
       "    </tr>\n",
       "  </tbody>\n",
       "</table>\n",
       "</div>"
      ],
      "text/plain": [
       "                      0                              1\n",
       "0  Equatorial Diameter:                       6,792 km\n",
       "1       Polar Diameter:                       6,752 km\n",
       "2                 Mass:  6.42 x 10^23 kg (10.7% Earth)\n",
       "3                Moons:            2 (Phobos & Deimos)\n",
       "4       Orbit Distance:       227,943,824 km (1.52 AU)\n",
       "5         Orbit Period:           687 days (1.9 years)\n",
       "6  Surface Temperature:                  -153 to 20 °C\n",
       "7         First Record:              2nd millennium BC\n",
       "8          Recorded By:           Egyptian astronomers"
      ]
     },
     "execution_count": 312,
     "metadata": {},
     "output_type": "execute_result"
    }
   ],
   "source": [
    "type(tables)\n",
    "df = tables[0]\n",
    "df.head(100)"
   ]
  },
  {
   "cell_type": "code",
   "execution_count": 313,
   "metadata": {},
   "outputs": [
    {
     "data": {
      "text/plain": [
       "'<table border=\"1\" class=\"dataframe\">\\n  <thead>\\n    <tr style=\"text-align: right;\">\\n      <th></th>\\n      <th>0</th>\\n      <th>1</th>\\n    </tr>\\n  </thead>\\n  <tbody>\\n    <tr>\\n      <th>0</th>\\n      <td>Equatorial Diameter:</td>\\n      <td>6,792 km</td>\\n    </tr>\\n    <tr>\\n      <th>1</th>\\n      <td>Polar Diameter:</td>\\n      <td>6,752 km</td>\\n    </tr>\\n    <tr>\\n      <th>2</th>\\n      <td>Mass:</td>\\n      <td>6.42 x 10^23 kg (10.7% Earth)</td>\\n    </tr>\\n    <tr>\\n      <th>3</th>\\n      <td>Moons:</td>\\n      <td>2 (Phobos &amp; Deimos)</td>\\n    </tr>\\n    <tr>\\n      <th>4</th>\\n      <td>Orbit Distance:</td>\\n      <td>227,943,824 km (1.52 AU)</td>\\n    </tr>\\n    <tr>\\n      <th>5</th>\\n      <td>Orbit Period:</td>\\n      <td>687 days (1.9 years)</td>\\n    </tr>\\n    <tr>\\n      <th>6</th>\\n      <td>Surface Temperature:</td>\\n      <td>-153 to 20 °C</td>\\n    </tr>\\n    <tr>\\n      <th>7</th>\\n      <td>First Record:</td>\\n      <td>2nd millennium BC</td>\\n    </tr>\\n    <tr>\\n      <th>8</th>\\n      <td>Recorded By:</td>\\n      <td>Egyptian astronomers</td>\\n    </tr>\\n  </tbody>\\n</table>'"
      ]
     },
     "execution_count": 313,
     "metadata": {},
     "output_type": "execute_result"
    }
   ],
   "source": [
    "html_table = df.to_html()\n",
    "html_table"
   ]
  },
  {
   "cell_type": "code",
   "execution_count": 314,
   "metadata": {},
   "outputs": [
    {
     "data": {
      "text/plain": [
       "'<table border=\"1\" class=\"dataframe\">  <thead>    <tr style=\"text-align: right;\">      <th></th>      <th>0</th>      <th>1</th>    </tr>  </thead>  <tbody>    <tr>      <th>0</th>      <td>Equatorial Diameter:</td>      <td>6,792 km</td>    </tr>    <tr>      <th>1</th>      <td>Polar Diameter:</td>      <td>6,752 km</td>    </tr>    <tr>      <th>2</th>      <td>Mass:</td>      <td>6.42 x 10^23 kg (10.7% Earth)</td>    </tr>    <tr>      <th>3</th>      <td>Moons:</td>      <td>2 (Phobos &amp; Deimos)</td>    </tr>    <tr>      <th>4</th>      <td>Orbit Distance:</td>      <td>227,943,824 km (1.52 AU)</td>    </tr>    <tr>      <th>5</th>      <td>Orbit Period:</td>      <td>687 days (1.9 years)</td>    </tr>    <tr>      <th>6</th>      <td>Surface Temperature:</td>      <td>-153 to 20 °C</td>    </tr>    <tr>      <th>7</th>      <td>First Record:</td>      <td>2nd millennium BC</td>    </tr>    <tr>      <th>8</th>      <td>Recorded By:</td>      <td>Egyptian astronomers</td>    </tr>  </tbody></table>'"
      ]
     },
     "execution_count": 314,
     "metadata": {},
     "output_type": "execute_result"
    }
   ],
   "source": [
    "html_table.replace('\\n', '')"
   ]
  },
  {
   "cell_type": "code",
   "execution_count": 317,
   "metadata": {},
   "outputs": [],
   "source": [
    "df.to_html('mars_fact.html')"
   ]
  },
  {
   "cell_type": "code",
   "execution_count": null,
   "metadata": {},
   "outputs": [],
   "source": []
  }
 ],
 "metadata": {
  "kernelspec": {
   "display_name": "Python 3",
   "language": "python",
   "name": "python3"
  },
  "language_info": {
   "codemirror_mode": {
    "name": "ipython",
    "version": 3
   },
   "file_extension": ".py",
   "mimetype": "text/x-python",
   "name": "python",
   "nbconvert_exporter": "python",
   "pygments_lexer": "ipython3",
   "version": "3.6.4"
  }
 },
 "nbformat": 4,
 "nbformat_minor": 2
}
